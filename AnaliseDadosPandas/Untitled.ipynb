{
 "cells": [
  {
   "cell_type": "code",
   "execution_count": null,
   "metadata": {},
   "outputs": [],
   "source": []
  },
  {
   "cell_type": "code",
   "execution_count": 11,
   "id": "be932a9a",
   "metadata": {},
   "outputs": [],
   "source": [
    "min_latex = (r\"\\documentclass{article}\"\n",
    "             r\"\\begin{document}\"\n",
    "             r\"Hello, world!\"\n",
    "             r\"\\end{document}\")\n",
    "\n",
    "from latex import build_pdf\n",
    "\n",
    "# this builds a pdf-file inside a temporary directory\n",
    "pdf = build_pdf(min_latex)\n",
    "pdf.save_to(file='exemplotex.pdf')"
   ]
  },
  {
   "cell_type": "code",
   "execution_count": null,
   "id": "fc819a11",
   "metadata": {},
   "outputs": [],
   "source": []
  }
 ],
 "metadata": {
  "kernelspec": {
   "display_name": "Python 3.10.6 64-bit",
   "language": "python",
   "name": "python3"
  },
  "language_info": {
   "codemirror_mode": {
    "name": "ipython",
    "version": 3
   },
   "file_extension": ".py",
   "mimetype": "text/x-python",
   "name": "python",
   "nbconvert_exporter": "python",
   "pygments_lexer": "ipython3",
   "version": "3.10.6"
  },
  "vscode": {
   "interpreter": {
    "hash": "916dbcbb3f70747c44a77c7bcd40155683ae19c65e1c03b4aa3499c5328201f1"
   }
  }
 },
 "nbformat": 4,
 "nbformat_minor": 5
}
