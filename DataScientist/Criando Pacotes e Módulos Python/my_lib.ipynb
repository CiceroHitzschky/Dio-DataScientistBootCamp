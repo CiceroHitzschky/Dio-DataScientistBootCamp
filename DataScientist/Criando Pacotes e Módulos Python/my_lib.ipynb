{
 "cells": [
  {
   "cell_type": "code",
   "execution_count": null,
   "metadata": {},
   "outputs": [],
   "source": [
    "# criando a cifra de césar\n"
   ]
  },
  {
   "cell_type": "markdown",
   "metadata": {},
   "source": [
    "# Motivação\n",
    "Sou professor de matemática do ensino médio e, por estar tratando de criptografia com meus alunos da OBMEP, decidi criar uma lib que faz a codificação para a cifra de cesar\n"
   ]
  },
  {
   "cell_type": "code",
   "execution_count": 1,
   "metadata": {},
   "outputs": [],
   "source": [
    "ALFABETO = 'ABCDEFGHIJKLMNOPQRSTUVWXYZ'\n",
    "ALFABETO_2 = 'DEFGHIJKLMNOPQRSTUVWXYZABC'\n",
    "ALFABETO_COMUM = [i for i in ALFABETO]\n",
    "ALFABETO_CIFRADO = [j for j in ALFABETO_2]\n",
    "\n",
    "CIFRA_CESAR = dict()\n",
    "for i in range(len(ALFABETO_COMUM)):\n",
    "    CIFRA_CESAR[ALFABETO_COMUM[i]] = ALFABETO_CIFRADO[i] \n",
    "\n",
    "CIFRA_CESAR_2 = dict()\n",
    "for i,j in CIFRA_CESAR.items():\n",
    "    CIFRA_CESAR_2[j] = i\n",
    "\n",
    "\n"
   ]
  },
  {
   "cell_type": "code",
   "execution_count": 2,
   "metadata": {},
   "outputs": [],
   "source": [
    "#Codificar e decodificar\n",
    "\n",
    "def codificar_palavra(palavra):\n",
    "    palavra = palavra.upper()\n",
    "    letras = []\n",
    "    \n",
    "    for letra in palavra:\n",
    "        letras.append(CIFRA_CESAR[letra])\n",
    "    nova_palavra = ''.join(letras)\n",
    "    return nova_palavra\n",
    "\n",
    "def descodificar_palavra(palavra):\n",
    "    palavra = palavra.upper()\n",
    "    letras = []\n",
    "    \n",
    "    for letra in palavra:\n",
    "        letras.append(CIFRA_CESAR_2[letra])\n",
    "    nova_palavra = ''.join(letras)\n",
    "    return nova_palavra\n",
    "\n",
    "#Codificar e decodificar frases\n",
    "\n",
    "def codificar_frase(frase):\n",
    "\n",
    "    frase = frase.upper()\n",
    "    palavras = frase.split()\n",
    "\n",
    "    for palavra in palavras:\n",
    "        indice = palavras.index(palavra)\n",
    "        nova_palavra = codificar_palavra(palavra)\n",
    "        palavras.pop(indice)\n",
    "        palavras.insert(indice,nova_palavra)\n",
    "    \n",
    "    nova_frase = ' '.join(palavras)\n",
    "    return nova_frase\n",
    "\n",
    "def descodificar_frase(frase):\n",
    "    frase = frase.upper()\n",
    "    palavras = frase.split()\n",
    "\n",
    "    for palavra in palavras:\n",
    "        indice = palavras.index(palavra)\n",
    "        nova_palavra = descodificar_palavra(palavra)\n",
    "     \n",
    "        palavras.pop(indice)\n",
    "        palavras.insert(indice,nova_palavra)\n",
    "\n",
    "    nova_frase = ' '.join(palavras)\n",
    "    return nova_frase\n",
    "    "
   ]
  },
  {
   "cell_type": "code",
   "execution_count": 6,
   "metadata": {},
   "outputs": [],
   "source": [
    "casa = codificar_frase('A arte de cagar e a arte mais profunda')"
   ]
  },
  {
   "cell_type": "code",
   "execution_count": 7,
   "metadata": {},
   "outputs": [
    {
     "data": {
      "text/plain": [
       "'A ARTE DE CAGAR E A ARTE MAIS PROFUNDA'"
      ]
     },
     "execution_count": 7,
     "metadata": {},
     "output_type": "execute_result"
    }
   ],
   "source": [
    "descodificar_frase(casa)"
   ]
  },
  {
   "cell_type": "code",
   "execution_count": null,
   "metadata": {},
   "outputs": [],
   "source": []
  },
  {
   "cell_type": "code",
   "execution_count": null,
   "metadata": {},
   "outputs": [],
   "source": []
  },
  {
   "cell_type": "code",
   "execution_count": null,
   "metadata": {},
   "outputs": [],
   "source": []
  }
 ],
 "metadata": {
  "kernelspec": {
   "display_name": "Python 3.10.6 64-bit",
   "language": "python",
   "name": "python3"
  },
  "language_info": {
   "codemirror_mode": {
    "name": "ipython",
    "version": 3
   },
   "file_extension": ".py",
   "mimetype": "text/x-python",
   "name": "python",
   "nbconvert_exporter": "python",
   "pygments_lexer": "ipython3",
   "version": "3.10.6"
  },
  "orig_nbformat": 4,
  "vscode": {
   "interpreter": {
    "hash": "916dbcbb3f70747c44a77c7bcd40155683ae19c65e1c03b4aa3499c5328201f1"
   }
  }
 },
 "nbformat": 4,
 "nbformat_minor": 2
}
